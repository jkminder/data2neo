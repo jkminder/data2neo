{
 "cells": [
  {
   "cell_type": "code",
   "execution_count": null,
   "metadata": {},
   "outputs": [],
   "source": [
    "# Hack to make the module importable\n",
    "import sys\n",
    "sys.path.append(r'./../')"
   ]
  },
  {
   "cell_type": "code",
   "execution_count": null,
   "metadata": {},
   "outputs": [],
   "source": [
    "%load_ext autoreload\n",
    "%autoreload 2\n",
    "from py2neo import Graph, NodeMatcher\n",
    "import pandas as pd\n",
    "\n",
    "from rel2graph.relational_modules.pandas import PandasDataframeIterator\n",
    "from rel2graph import IteratorIterator\n",
    "from rel2graph import Converter\n",
    "from rel2graph.utils import load_file\n",
    "from rel2graph import register_attribute_postprocessor, Attribute\n",
    "import rel2graph.common_modules\n",
    "\n",
    "filename = \"./pd_dataframe_demo_config.yaml\""
   ]
  },
  {
   "cell_type": "code",
   "execution_count": null,
   "metadata": {},
   "outputs": [],
   "source": [
    "# Configure Logging\n",
    "import logging\n",
    "\n",
    "#logging.basicConfig(level=logging.WARNING)\n",
    "logger = logging.getLogger(\"rel2graph\")\n",
    "logger.setLevel(logging.DEBUG)\n",
    "log_formatter = logging.Formatter(\"%(asctime)s [%(threadName)s]::[%(levelname)s]::%(filename)s: %(message)s\")\n",
    "console_handler = logging.StreamHandler()\n",
    "console_handler.setFormatter(log_formatter)\n",
    "logger.addHandler(console_handler)\n"
   ]
  },
  {
   "cell_type": "code",
   "execution_count": null,
   "metadata": {},
   "outputs": [],
   "source": [
    "iris = pd.read_csv('https://raw.githubusercontent.com/mwaskom/seaborn-data/master/iris.csv')\n",
    "iris"
   ]
  },
  {
   "cell_type": "code",
   "execution_count": null,
   "metadata": {},
   "outputs": [],
   "source": [
    "data = {\n",
    "  \"ID\": [1,2,2,3,4,4],\n",
    "  \"FirstName\": [\"Julian\", \"Fritz\",  \"Fritz\", \"Hans\", \"Rudolfo\", \"Rudolfo\"],\n",
    "  \"LastName\": [\"Minder\", \"Generic\", \"SomeGuy\", \"Müller\", \"Muster\", \"Muster\"],\n",
    "  \"FavoriteFlower\": [\"virginica\", \"setosa\", \"setosa\", \"versicolor\", \"setosa\", \"setosa\"]\n",
    "}\n",
    "people = pd.DataFrame(data)\n",
    "people"
   ]
  },
  {
   "cell_type": "code",
   "execution_count": null,
   "metadata": {},
   "outputs": [],
   "source": [
    "graph = Graph(scheme=\"http\", host=\"localhost\", port=7474,  auth=('neo4j', 'password')) ## UPDATE password\n",
    "\n",
    "graph.delete_all()  # reset graph (only wehn first creating the databse, here for debugging purposes)"
   ]
  },
  {
   "cell_type": "code",
   "execution_count": null,
   "metadata": {},
   "outputs": [],
   "source": [
    "# Now neo4j does not support the numpy dtype int64, so we need to convert it to python native int\n",
    "# We create a wrapper for this.\n",
    "@register_attribute_postprocessor\n",
    "def INT(attribute):\n",
    "    return Attribute(attribute.key, int(attribute.value))\n",
    "\n",
    "# In the schema file wrap the Person.ID attribute in the INT wrapper\n",
    "#        + ID = INT(Person.ID)"
   ]
  },
  {
   "cell_type": "code",
   "execution_count": null,
   "metadata": {},
   "outputs": [],
   "source": [
    "iterator = IteratorIterator([PandasDataframeIterator(people, \"Person\"), PandasDataframeIterator(iris, \"Flower\")])"
   ]
  },
  {
   "cell_type": "code",
   "execution_count": null,
   "metadata": {},
   "outputs": [],
   "source": [
    "graph.delete_all()"
   ]
  },
  {
   "cell_type": "code",
   "execution_count": null,
   "metadata": {},
   "outputs": [],
   "source": [
    "converter = Converter(load_file(filename), iterator, graph, num_workers=1)"
   ]
  },
  {
   "cell_type": "code",
   "execution_count": null,
   "metadata": {},
   "outputs": [],
   "source": [
    "from tqdm.notebook import tqdm\n",
    "converter(progress_bar=tqdm)"
   ]
  }
 ],
 "metadata": {
  "interpreter": {
   "hash": "b412206d49013109e888184d145344cd80b977ea9059b5a051a9ff53a4d07d7f"
  },
  "kernelspec": {
   "display_name": "Python 3 (ipykernel)",
   "language": "python",
   "name": "python3"
  },
  "language_info": {
   "codemirror_mode": {
    "name": "ipython",
    "version": 3
   },
   "file_extension": ".py",
   "mimetype": "text/x-python",
   "name": "python",
   "nbconvert_exporter": "python",
   "pygments_lexer": "ipython3",
   "version": "3.9.7"
  }
 },
 "nbformat": 4,
 "nbformat_minor": 2
}
