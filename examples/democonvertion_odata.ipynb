{
 "cells": [
  {
   "cell_type": "code",
   "execution_count": null,
   "metadata": {},
   "outputs": [],
   "source": [
    "# Hack to make the module importable\n",
    "import sys\n",
    "sys.path.append(r'./../')"
   ]
  },
  {
   "cell_type": "code",
   "execution_count": null,
   "metadata": {},
   "outputs": [],
   "source": [
    "%load_ext autoreload\n",
    "%autoreload 2\n",
    "from py2neo import Graph\n",
    "import requests\n",
    "import pyodata\n",
    "\n",
    "from rel2graph.relational_modules.odata import ODataListIterator\n",
    "from rel2graph import Converter, register_attribute_postprocessor, Attribute\n",
    "import rel2graph.common_modules\n",
    "from rel2graph.utils import load_file"
   ]
  },
  {
   "cell_type": "code",
   "execution_count": null,
   "metadata": {},
   "outputs": [],
   "source": [
    "# Configure Logging\n",
    "import logging\n",
    "\n",
    "#logging.basicConfig(level=logging.WARNING)\n",
    "logger = logging.getLogger(\"rel2graph\")\n",
    "logger.setLevel(logging.DEBUG)\n",
    "log_formatter = logging.Formatter(\"%(asctime)s [%(threadName)s]::[%(levelname)s] : %(message)s\")\n",
    "console_handler = logging.StreamHandler()\n",
    "console_handler.setFormatter(log_formatter)\n",
    "logger.addHandler(console_handler)"
   ]
  },
  {
   "cell_type": "code",
   "execution_count": null,
   "metadata": {},
   "outputs": [],
   "source": [
    "graph = Graph(scheme=\"bolt\", host=\"localhost\", port=7687,  auth=('neo4j', 'password'))\n",
    "\n",
    "graph.delete_all()  "
   ]
  },
  {
   "cell_type": "code",
   "execution_count": null,
   "metadata": {},
   "outputs": [],
   "source": [
    "###### CONFIGURATIONS #########\n",
    "SERVICE_URL = 'https://ws.parlament.ch/odata.svc/'\n",
    "HTTP_LIB = requests.Session()\n",
    "client = pyodata.Client(SERVICE_URL, HTTP_LIB)\n",
    "\n",
    "# Initialize node and relation dumps\n",
    "nodes = []\n",
    "relations = []\n",
    "\n",
    "target = client.entity_sets.Person.get_entity(ID=4049,Language=\"DE\").execute()"
   ]
  },
  {
   "cell_type": "code",
   "execution_count": null,
   "metadata": {},
   "outputs": [],
   "source": [
    "@register_attribute_postprocessor\n",
    "def APPEND(attribute, string):\n",
    "    new_attr = Attribute(attribute.key, attribute.value + string)\n",
    "    return new_attr\n",
    "\n",
    "@register_attribute_postprocessor\n",
    "def ASSERT_EQ(attribute: Attribute, value: str) -> Attribute:\n",
    "    assert attribute.value == value, f\"Attribute {attribute.key} '{attribute.value}' != '{value}'\"\n",
    "    return attribute"
   ]
  },
  {
   "cell_type": "code",
   "execution_count": null,
   "metadata": {},
   "outputs": [],
   "source": [
    "iterator = ODataListIterator([target])"
   ]
  },
  {
   "cell_type": "code",
   "execution_count": null,
   "metadata": {},
   "outputs": [],
   "source": [
    "schema_config = \"./odata_demo_config.yaml\"\n",
    "converter = Converter(load_file(schema_config), iterator, graph, num_workers=1)"
   ]
  },
  {
   "cell_type": "code",
   "execution_count": null,
   "metadata": {},
   "outputs": [],
   "source": [
    "converter()"
   ]
  },
  {
   "cell_type": "code",
   "execution_count": null,
   "metadata": {},
   "outputs": [],
   "source": []
  }
 ],
 "metadata": {
  "interpreter": {
   "hash": "b412206d49013109e888184d145344cd80b977ea9059b5a051a9ff53a4d07d7f"
  },
  "kernelspec": {
   "display_name": "Python 3 (ipykernel)",
   "language": "python",
   "name": "python3"
  },
  "language_info": {
   "codemirror_mode": {
    "name": "ipython",
    "version": 3
   },
   "file_extension": ".py",
   "mimetype": "text/x-python",
   "name": "python",
   "nbconvert_exporter": "python",
   "pygments_lexer": "ipython3",
   "version": "3.9.7"
  }
 },
 "nbformat": 4,
 "nbformat_minor": 2
}
