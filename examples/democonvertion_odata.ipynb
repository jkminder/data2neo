{
 "cells": [
  {
   "cell_type": "code",
   "execution_count": 1,
   "metadata": {},
   "outputs": [],
   "source": [
    "# Hack to make the module importable\n",
    "import sys\n",
    "sys.path.append(r'./../')"
   ]
  },
  {
   "cell_type": "code",
   "execution_count": 2,
   "metadata": {},
   "outputs": [],
   "source": [
    "%load_ext autoreload\n",
    "%autoreload 2\n",
    "from py2neo import Graph\n",
    "import requests\n",
    "import pyodata\n",
    "\n",
    "from rel2graph.relational_modules.odata import ODataListIterator\n",
    "from rel2graph import Converter, register_attribute_postprocessor, Attribute\n",
    "import rel2graph.common_modules"
   ]
  },
  {
   "cell_type": "code",
   "execution_count": 3,
   "metadata": {},
   "outputs": [],
   "source": [
    "# Configure Logging\n",
    "import logging\n",
    "\n",
    "#logging.basicConfig(level=logging.WARNING)\n",
    "logger = logging.getLogger(\"rel2graph\")\n",
    "logger.setLevel(logging.DEBUG)\n",
    "log_formatter = logging.Formatter(\"%(asctime)s [%(threadName)s]::[%(levelname)s] : %(message)s\")\n",
    "console_handler = logging.StreamHandler()\n",
    "console_handler.setFormatter(log_formatter)\n",
    "logger.addHandler(console_handler)"
   ]
  },
  {
   "cell_type": "code",
   "execution_count": 4,
   "metadata": {},
   "outputs": [],
   "source": [
    "graph = Graph(scheme=\"http\", host=\"localhost\", port=7474,  auth=('neo4j', 'password'))\n",
    "\n",
    "graph.delete_all()  "
   ]
  },
  {
   "cell_type": "code",
   "execution_count": 5,
   "metadata": {},
   "outputs": [],
   "source": [
    "###### CONFIGURATIONS #########\n",
    "SERVICE_URL = 'https://ws.parlament.ch/odata.svc/'\n",
    "HTTP_LIB = requests.Session()\n",
    "client = pyodata.Client(SERVICE_URL, HTTP_LIB)\n",
    "\n",
    "# Initialize node and relation dumps\n",
    "nodes = []\n",
    "relations = []\n",
    "\n",
    "target = client.entity_sets.Person.get_entity(ID=4049,Language=\"DE\").execute()"
   ]
  },
  {
   "cell_type": "code",
   "execution_count": 6,
   "metadata": {},
   "outputs": [
    {
     "name": "stderr",
     "output_type": "stream",
     "text": [
      "2021-12-21 13:50:53,435 [MainThread]::[DEBUG] : Registered attribute postprocessor 'append''.\n"
     ]
    }
   ],
   "source": [
    "@register_attribute_postprocessor\n",
    "def APPEND(attribute, string):\n",
    "    new_attr = Attribute(attribute.key, attribute.value + string)\n",
    "    return new_attr\n",
    "\n",
    "@register_attribute_postprocessor\n",
    "def ASSERT_EQ(attribute: Attribute, value: str) -> Attribute:\n",
    "    assert attribute.value == value, f\"Attribute {attribute.key} '{attribute.value}' != '{value}'\"\n",
    "    return attribute"
   ]
  },
  {
   "cell_type": "code",
   "execution_count": 7,
   "metadata": {},
   "outputs": [],
   "source": [
    "iterator = ODataListIterator([target])"
   ]
  },
  {
   "cell_type": "code",
   "execution_count": 8,
   "metadata": {},
   "outputs": [
    {
     "name": "stderr",
     "output_type": "stream",
     "text": [
      "2021-12-21 13:50:54,276 [MainThread]::[DEBUG] : Parsing config file './odata_demo_config.yaml'\n",
      "2021-12-21 13:50:54,280 [MainThread]::[DEBUG] : Compiling ENTITY(\"Person\") : {'NODE(\"Person\") person': ['+ ID = Person.ID', 'FirstName = Person.FirstName', 'LastName = append(Person.LastName, \" I appended something\")', 'Astaticattr = \"HelloWorld!\"'], 'CONDITION(NODE(\"Language\"), \"resource[\\'FirstName\\'] == \\'Matthias\\'\") language': ['ShortName = ASSERT_EQ(Person.NativeLanguage, \"D\")'], 'RELATION(person, \"speaks\", language)': ['Since = Person.DateOfBirth']}\n",
      "2021-12-21 13:50:54,284 [MainThread]::[DEBUG] : Compiling module 'AttributeFactory' with static args ['ID', 'ID']\n",
      "2021-12-21 13:50:54,285 [MainThread]::[DEBUG] : Requested factory 'AttributeFactory' from registry.\n",
      "2021-12-21 13:50:54,285 [MainThread]::[DEBUG] : Compiling module 'AttributeFactory' with static args ['FirstName', 'FirstName']\n",
      "2021-12-21 13:50:54,286 [MainThread]::[DEBUG] : Requested factory 'AttributeFactory' from registry.\n",
      "2021-12-21 13:50:54,286 [MainThread]::[DEBUG] : Compiling module 'AttributeFactory' with static args ['LastName', 'LastName']\n",
      "2021-12-21 13:50:54,287 [MainThread]::[DEBUG] : Requested factory 'AttributeFactory' from registry.\n",
      "2021-12-21 13:50:54,287 [MainThread]::[DEBUG] : Compiling module 'AttributeFactory' with static args [' I appended something']\n",
      "2021-12-21 13:50:54,288 [MainThread]::[DEBUG] : Requested factory 'AttributeFactory' from registry.\n",
      "2021-12-21 13:50:54,288 [MainThread]::[DEBUG] : Compiling module 'append' with static args []\n",
      "2021-12-21 13:50:54,289 [MainThread]::[DEBUG] : Requested factory 'append' from registry.\n",
      "2021-12-21 13:50:54,289 [MainThread]::[DEBUG] : Requested factory 'AttributeFactoryWrapper' from registry.\n",
      "2021-12-21 13:50:54,290 [MainThread]::[DEBUG] : Compiling module 'AttributeFactory' with static args ['Astaticattr', 'HelloWorld!']\n",
      "2021-12-21 13:50:54,290 [MainThread]::[DEBUG] : Requested factory 'AttributeFactory' from registry.\n",
      "2021-12-21 13:50:54,291 [MainThread]::[DEBUG] : Compiling module 'AttributeFactory' with static args ['Person']\n",
      "2021-12-21 13:50:54,292 [MainThread]::[DEBUG] : Requested factory 'AttributeFactory' from registry.\n",
      "2021-12-21 13:50:54,292 [MainThread]::[DEBUG] : Compiling module 'NodeFactory' with static args ['ID', 'Person.person']\n",
      "2021-12-21 13:50:54,293 [MainThread]::[DEBUG] : Requested factory 'NodeFactory' from registry.\n",
      "2021-12-21 13:50:54,293 [MainThread]::[DEBUG] : Compiling module 'AttributeFactory' with static args ['ShortName', 'NativeLanguage']\n",
      "2021-12-21 13:50:54,294 [MainThread]::[DEBUG] : Requested factory 'AttributeFactory' from registry.\n",
      "2021-12-21 13:50:54,294 [MainThread]::[DEBUG] : Compiling module 'AttributeFactory' with static args ['D']\n",
      "2021-12-21 13:50:54,295 [MainThread]::[DEBUG] : Requested factory 'AttributeFactory' from registry.\n",
      "2021-12-21 13:50:54,295 [MainThread]::[DEBUG] : Compiling module 'ASSERT_EQ' with static args []\n",
      "2021-12-21 13:50:54,296 [MainThread]::[DEBUG] : Requested factory 'ASSERT_EQ' from registry.\n",
      "2021-12-21 13:50:54,296 [MainThread]::[DEBUG] : Requested factory 'AttributeFactoryWrapper' from registry.\n",
      "2021-12-21 13:50:54,297 [MainThread]::[DEBUG] : Compiling module 'AttributeFactory' with static args ['Language']\n",
      "2021-12-21 13:50:54,297 [MainThread]::[DEBUG] : Requested factory 'AttributeFactory' from registry.\n",
      "2021-12-21 13:50:54,298 [MainThread]::[DEBUG] : Compiling module 'NodeFactory' with static args ['Person.language']\n",
      "2021-12-21 13:50:54,299 [MainThread]::[DEBUG] : Requested factory 'NodeFactory' from registry.\n",
      "2021-12-21 13:50:54,299 [MainThread]::[DEBUG] : Compiling module 'AttributeFactory' with static args [\"resource['FirstName'] == 'Matthias'\"]\n",
      "2021-12-21 13:50:54,300 [MainThread]::[DEBUG] : Requested factory 'AttributeFactory' from registry.\n",
      "2021-12-21 13:50:54,300 [MainThread]::[DEBUG] : Compiling module 'CONDITION' with static args []\n",
      "2021-12-21 13:50:54,301 [MainThread]::[DEBUG] : Requested factory 'CONDITION' from registry.\n",
      "2021-12-21 13:50:54,302 [MainThread]::[DEBUG] : Requested factory 'SubGraphFactoryWrapper' from registry.\n",
      "2021-12-21 13:50:54,302 [MainThread]::[DEBUG] : Compiling module 'AttributeFactory' with static args ['Since', 'DateOfBirth']\n",
      "2021-12-21 13:50:54,303 [MainThread]::[DEBUG] : Requested factory 'AttributeFactory' from registry.\n",
      "2021-12-21 13:50:54,304 [MainThread]::[DEBUG] : Compiling module 'AttributeFactory' with static args ['speaks']\n",
      "2021-12-21 13:50:54,304 [MainThread]::[DEBUG] : Requested factory 'AttributeFactory' from registry.\n",
      "2021-12-21 13:50:54,305 [MainThread]::[DEBUG] : Compiling module 'Matcher' with static args ['Person.person']\n",
      "2021-12-21 13:50:54,305 [MainThread]::[DEBUG] : Requested factory 'Matcher' from registry.\n",
      "2021-12-21 13:50:54,306 [MainThread]::[DEBUG] : Compiling module 'Matcher' with static args ['Person.language']\n",
      "2021-12-21 13:50:54,307 [MainThread]::[DEBUG] : Requested factory 'Matcher' from registry.\n",
      "2021-12-21 13:50:54,307 [MainThread]::[DEBUG] : Compiling module 'RelationFactory' with static args []\n",
      "2021-12-21 13:50:54,308 [MainThread]::[DEBUG] : Requested factory 'RelationFactory' from registry.\n",
      "2021-12-21 13:50:54,309 [MainThread]::[DEBUG] : Requested factory 'SupplyChain' from registry.\n",
      "2021-12-21 13:50:54,309 [MainThread]::[DEBUG] : Requested factory 'SupplyChain' from registry.\n"
     ]
    }
   ],
   "source": [
    "schema_config = \"./odata_demo_config.yaml\"\n",
    "converter = Converter(schema_config, iterator, graph, num_workers=1)"
   ]
  },
  {
   "cell_type": "code",
   "execution_count": 9,
   "metadata": {},
   "outputs": [
    {
     "name": "stderr",
     "output_type": "stream",
     "text": [
      "2021-12-21 13:50:54,815 [MainThread]::[INFO] : Running convertion with 1 parallel workers.\n",
      "2021-12-21 13:50:54,816 [MainThread]::[INFO] : Starting creation of nodes.\n",
      "2021-12-21 13:50:54,818 [Worker-0]::[DEBUG] : Starting Worker 0\n",
      "2021-12-21 13:50:54,819 [Worker-0]::[DEBUG] : Processing ODataResource 'Person' (ID=4049,Language='DE')\n",
      "2021-12-21 13:50:54,874 [Worker-0]::[INFO] : DONE\n",
      "2021-12-21 13:50:54,875 [Worker-0]::[DEBUG] : Exiting Worker 0\n",
      "2021-12-21 13:50:54,922 [MainThread]::[INFO] : Starting creation of relations.\n",
      "2021-12-21 13:50:54,923 [Worker-0]::[DEBUG] : Starting Worker 0\n",
      "2021-12-21 13:50:54,923 [Worker-0]::[DEBUG] : Processing ODataResource 'Person' (ID=4049,Language='DE')\n",
      "2021-12-21 13:50:54,955 [Worker-0]::[INFO] : DONE\n",
      "2021-12-21 13:50:54,956 [Worker-0]::[DEBUG] : Exiting Worker 0\n",
      "2021-12-21 13:50:55,027 [MainThread]::[INFO] : Processed in total 2 nodes and 2 relations (this run took 0s)\n"
     ]
    }
   ],
   "source": [
    "converter()"
   ]
  },
  {
   "cell_type": "code",
   "execution_count": null,
   "metadata": {},
   "outputs": [],
   "source": []
  }
 ],
 "metadata": {
  "interpreter": {
   "hash": "b412206d49013109e888184d145344cd80b977ea9059b5a051a9ff53a4d07d7f"
  },
  "kernelspec": {
   "display_name": "Python 3 (ipykernel)",
   "language": "python",
   "name": "python3"
  },
  "language_info": {
   "codemirror_mode": {
    "name": "ipython",
    "version": 3
   },
   "file_extension": ".py",
   "mimetype": "text/x-python",
   "name": "python",
   "nbconvert_exporter": "python",
   "pygments_lexer": "ipython3",
   "version": "3.9.7"
  }
 },
 "nbformat": 4,
 "nbformat_minor": 2
}
