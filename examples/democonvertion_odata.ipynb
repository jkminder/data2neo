{
 "cells": [
  {
   "cell_type": "code",
   "execution_count": 2,
   "metadata": {},
   "outputs": [],
   "source": [
    "# Hack to make the module importable\n",
    "import sys\n",
    "sys.path.append(r'./../../')"
   ]
  },
  {
   "cell_type": "code",
   "execution_count": 10,
   "metadata": {},
   "outputs": [
    {
     "name": "stdout",
     "output_type": "stream",
     "text": [
      "The autoreload extension is already loaded. To reload it, use:\n",
      "  %reload_ext autoreload\n"
     ]
    }
   ],
   "source": [
    "%load_ext autoreload\n",
    "%autoreload 2\n",
    "from py2neo import Graph\n",
    "import requests\n",
    "import pyodata\n",
    "\n",
    "from rel2graph.relational_modules.odata import ODataListIterator\n",
    "from rel2graph import Converter, register_attribute_postprocessor, Attribute\n",
    "import rel2graph.common_modules"
   ]
  },
  {
   "cell_type": "code",
   "execution_count": 11,
   "metadata": {},
   "outputs": [],
   "source": [
    "# Configure Logging\n",
    "import logging\n",
    "\n",
    "logging.basicConfig(level=logging.WARNING)\n",
    "logging.getLogger(\"rel2graph\").setLevel(logging.DEBUG)"
   ]
  },
  {
   "cell_type": "code",
   "execution_count": 13,
   "metadata": {},
   "outputs": [],
   "source": [
    "graph = Graph(scheme=\"http\", host=\"localhost\", port=7474,  auth=('neo4j', 'password'))\n",
    "\n",
    "graph.delete_all()  "
   ]
  },
  {
   "cell_type": "code",
   "execution_count": 14,
   "metadata": {},
   "outputs": [
    {
     "name": "stderr",
     "output_type": "stream",
     "text": [
      "INFO:pyodata.client:Fetching metadata\n",
      "INFO:pyodata.client:Creating OData Schema (version: 2)\n",
      "INFO:pyodata.client:Creating OData Service (version: 2)\n",
      "INFO:pyodata.service:Getting entity Person for key None and args {'ID': 4049, 'Language': 'DE'}\n"
     ]
    }
   ],
   "source": [
    "###### CONFIGURATIONS #########\n",
    "SERVICE_URL = 'https://ws.parlament.ch/odata.svc/'\n",
    "HTTP_LIB = requests.Session()\n",
    "client = pyodata.Client(SERVICE_URL, HTTP_LIB)\n",
    "\n",
    "# Initialize node and relation dumps\n",
    "nodes = []\n",
    "relations = []\n",
    "\n",
    "target = client.entity_sets.Person.get_entity(ID=4049,Language=\"DE\").execute()"
   ]
  },
  {
   "cell_type": "code",
   "execution_count": 15,
   "metadata": {},
   "outputs": [],
   "source": [
    "iterator = ODataListIterator([target])"
   ]
  },
  {
   "cell_type": "code",
   "execution_count": 16,
   "metadata": {},
   "outputs": [
    {
     "name": "stderr",
     "output_type": "stream",
     "text": [
      "DEBUG:rel2graph.core.config_parser:Parsing config file './odata_demo_config.yaml'\n",
      "DEBUG:rel2graph.core.config_parser:Compiling ENTITY(\"Person\") : {'NODE(\"Person\") person': ['ID = Person.ID', 'FirstName = Person.FirstName', 'LastName = append(Person.LastName, \" I appended something\")', 'Astaticattr = \"HelloWorld!\"'], 'CONDITION(NODE(\"Language\"), \"resource[\\'FirstName\\'] == \\'Matthias\\'\") language': ['ShortName = ASSERT_EQ(Person.NativeLanguage, \"D\")'], 'RELATION(person, \"speaks\", language)': ['Since = Person.DateOfBirth']}\n",
      "DEBUG:rel2graph.core.config_parser:Compiling module 'AttributeFactory' with static args ['ID', 'ID']\n",
      "DEBUG:rel2graph.core.factories.registrar:Requested factory 'AttributeFactory' from registry.\n",
      "DEBUG:rel2graph.core.config_parser:Compiling module 'AttributeFactory' with static args ['FirstName', 'FirstName']\n",
      "DEBUG:rel2graph.core.factories.registrar:Requested factory 'AttributeFactory' from registry.\n",
      "DEBUG:rel2graph.core.config_parser:Compiling module 'AttributeFactory' with static args ['LastName', 'LastName']\n",
      "DEBUG:rel2graph.core.factories.registrar:Requested factory 'AttributeFactory' from registry.\n",
      "DEBUG:rel2graph.core.config_parser:Compiling module 'AttributeFactory' with static args [' I appended something']\n",
      "DEBUG:rel2graph.core.factories.registrar:Requested factory 'AttributeFactory' from registry.\n",
      "DEBUG:rel2graph.core.config_parser:Compiling module 'append' with static args []\n",
      "DEBUG:rel2graph.core.factories.registrar:Requested factory 'append' from registry.\n",
      "DEBUG:rel2graph.core.factories.registrar:Requested factory 'AttributeFactoryWrapper' from registry.\n",
      "DEBUG:rel2graph.core.config_parser:Compiling module 'AttributeFactory' with static args ['Astaticattr', 'HelloWorld!']\n",
      "DEBUG:rel2graph.core.factories.registrar:Requested factory 'AttributeFactory' from registry.\n",
      "DEBUG:rel2graph.core.config_parser:Compiling module 'AttributeFactory' with static args ['Person']\n",
      "DEBUG:rel2graph.core.factories.registrar:Requested factory 'AttributeFactory' from registry.\n",
      "DEBUG:rel2graph.core.config_parser:Compiling module 'NodeFactory' with static args ['Person.person']\n",
      "DEBUG:rel2graph.core.factories.registrar:Requested factory 'NodeFactory' from registry.\n",
      "DEBUG:rel2graph.core.config_parser:Compiling module 'AttributeFactory' with static args ['ShortName', 'NativeLanguage']\n",
      "DEBUG:rel2graph.core.factories.registrar:Requested factory 'AttributeFactory' from registry.\n",
      "DEBUG:rel2graph.core.config_parser:Compiling module 'AttributeFactory' with static args ['D']\n",
      "DEBUG:rel2graph.core.factories.registrar:Requested factory 'AttributeFactory' from registry.\n",
      "DEBUG:rel2graph.core.config_parser:Compiling module 'ASSERT_EQ' with static args []\n",
      "DEBUG:rel2graph.core.factories.registrar:Requested factory 'ASSERT_EQ' from registry.\n",
      "DEBUG:rel2graph.core.factories.registrar:Requested factory 'AttributeFactoryWrapper' from registry.\n",
      "DEBUG:rel2graph.core.config_parser:Compiling module 'AttributeFactory' with static args ['Language']\n",
      "DEBUG:rel2graph.core.factories.registrar:Requested factory 'AttributeFactory' from registry.\n",
      "DEBUG:rel2graph.core.config_parser:Compiling module 'NodeFactory' with static args ['Person.language']\n",
      "DEBUG:rel2graph.core.factories.registrar:Requested factory 'NodeFactory' from registry.\n",
      "DEBUG:rel2graph.core.config_parser:Compiling module 'AttributeFactory' with static args [\"resource['FirstName'] == 'Matthias'\"]\n",
      "DEBUG:rel2graph.core.factories.registrar:Requested factory 'AttributeFactory' from registry.\n",
      "DEBUG:rel2graph.core.config_parser:Compiling module 'CONDITION' with static args []\n",
      "DEBUG:rel2graph.core.factories.registrar:Requested factory 'CONDITION' from registry.\n",
      "DEBUG:rel2graph.core.factories.registrar:Requested factory 'SubGraphFactoryWrapper' from registry.\n",
      "DEBUG:rel2graph.core.config_parser:Compiling module 'AttributeFactory' with static args ['Since', 'DateOfBirth']\n",
      "DEBUG:rel2graph.core.factories.registrar:Requested factory 'AttributeFactory' from registry.\n",
      "DEBUG:rel2graph.core.config_parser:Compiling module 'AttributeFactory' with static args ['speaks']\n",
      "DEBUG:rel2graph.core.factories.registrar:Requested factory 'AttributeFactory' from registry.\n",
      "DEBUG:rel2graph.core.config_parser:Compiling module 'Matcher' with static args ['Person.person']\n",
      "DEBUG:rel2graph.core.factories.registrar:Requested factory 'Matcher' from registry.\n",
      "DEBUG:rel2graph.core.config_parser:Compiling module 'Matcher' with static args ['Person.language']\n",
      "DEBUG:rel2graph.core.factories.registrar:Requested factory 'Matcher' from registry.\n",
      "DEBUG:rel2graph.core.config_parser:Compiling module 'RelationFactory' with static args []\n",
      "DEBUG:rel2graph.core.factories.registrar:Requested factory 'RelationFactory' from registry.\n",
      "DEBUG:rel2graph.core.factories.registrar:Requested factory 'SupplyChain' from registry.\n",
      "DEBUG:rel2graph.core.factories.registrar:Requested factory 'SupplyChain' from registry.\n"
     ]
    }
   ],
   "source": [
    "schema_config = \"./odata_demo_config.yaml\"\n",
    "converter = Converter(schema_config, iterator, graph, num_workers=5)"
   ]
  },
  {
   "cell_type": "code",
   "execution_count": 17,
   "metadata": {},
   "outputs": [
    {
     "name": "stderr",
     "output_type": "stream",
     "text": [
      "INFO:rel2graph.core.converter:Starting creation of nodes.\n",
      "DEBUG:rel2graph.core.converter:Starting Worker 0\n",
      "DEBUG:rel2graph.core.converter:Starting Worker 1\n",
      "DEBUG:rel2graph.core.converter:Starting Worker 2\n",
      "DEBUG:rel2graph.core.converter:Starting Worker 3\n",
      "DEBUG:rel2graph.core.converter:Worker 0: Processing resource type: 'Person'\n",
      "DEBUG:rel2graph.core.converter:Starting Worker 4\n",
      "DEBUG:rel2graph.core.converter:Exiting Worker 1\n",
      "DEBUG:rel2graph.core.converter:Exiting Worker 2\n",
      "DEBUG:rel2graph.core.converter:Exiting Worker 3\n",
      "DEBUG:rel2graph.core.converter:Exiting Worker 4\n",
      "DEBUG:rel2graph.core.converter:Exiting Worker 0\n",
      "INFO:rel2graph.core.converter:Starting creation of relations.\n",
      "DEBUG:rel2graph.core.converter:Starting Worker 0\n",
      "DEBUG:rel2graph.core.converter:Starting Worker 1\n",
      "DEBUG:rel2graph.core.converter:Starting Worker 2\n",
      "DEBUG:rel2graph.core.converter:Starting Worker 3\n",
      "DEBUG:rel2graph.core.converter:Worker 0: Processing resource type: 'Person'\n",
      "DEBUG:rel2graph.core.converter:Starting Worker 4\n",
      "DEBUG:rel2graph.core.converter:Exiting Worker 1\n",
      "DEBUG:rel2graph.core.converter:Exiting Worker 2\n",
      "DEBUG:rel2graph.core.converter:Exiting Worker 3\n",
      "DEBUG:rel2graph.core.factories.factory:For relation type speaks matched 1 from_nodes and 1 to nodes\n",
      "DEBUG:rel2graph.core.converter:Exiting Worker 4\n",
      "DEBUG:rel2graph.core.converter:Exiting Worker 0\n",
      "INFO:rel2graph.core.converter:Processed 2 nodes and 1 relations (took 1s)\n"
     ]
    }
   ],
   "source": [
    "converter()"
   ]
  },
  {
   "cell_type": "code",
   "execution_count": 18,
   "metadata": {},
   "outputs": [
    {
     "name": "stderr",
     "output_type": "stream",
     "text": [
      "DEBUG:rel2graph.core.factories.registrar:Registered attribute postprocessor 'append''.\n"
     ]
    }
   ],
   "source": [
    "@register_attribute_postprocessor\n",
    "def append(attribute, string):\n",
    "    new_attr = Attribute(attribute.key, attribute.value + string)\n",
    "    return new_attr"
   ]
  },
  {
   "cell_type": "code",
   "execution_count": null,
   "metadata": {},
   "outputs": [],
   "source": []
  }
 ],
 "metadata": {
  "interpreter": {
   "hash": "b412206d49013109e888184d145344cd80b977ea9059b5a051a9ff53a4d07d7f"
  },
  "kernelspec": {
   "display_name": "Python 3 (ipykernel)",
   "language": "python",
   "name": "python3"
  },
  "language_info": {
   "codemirror_mode": {
    "name": "ipython",
    "version": 3
   },
   "file_extension": ".py",
   "mimetype": "text/x-python",
   "name": "python",
   "nbconvert_exporter": "python",
   "pygments_lexer": "ipython3",
   "version": "3.9.7"
  }
 },
 "nbformat": 4,
 "nbformat_minor": 2
}
